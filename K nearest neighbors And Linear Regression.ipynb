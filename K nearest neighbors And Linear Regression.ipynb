{
 "cells": [
  {
   "cell_type": "code",
   "execution_count": 1,
   "id": "c9264fe9",
   "metadata": {},
   "outputs": [],
   "source": [
    "import pandas as pd\n",
    "import numpy as np\n",
    "import matplotlib.pyplot as plt\n",
    "from sklearn.model_selection import train_test_split\n",
    "from sklearn.linear_model import LinearRegression\n",
    "from sklearn.neighbors import KNeighborsRegressor"
   ]
  },
  {
   "cell_type": "code",
   "execution_count": 2,
   "id": "1d96315c",
   "metadata": {},
   "outputs": [],
   "source": [
    "data = pd.read_csv(\"C:/Springboard_Data_Science/Data_for_project/Wind_Energy/T1.csv\")"
   ]
  },
  {
   "cell_type": "code",
   "execution_count": 3,
   "id": "ed0f4878",
   "metadata": {},
   "outputs": [
    {
     "data": {
      "text/html": [
       "<div>\n",
       "<style scoped>\n",
       "    .dataframe tbody tr th:only-of-type {\n",
       "        vertical-align: middle;\n",
       "    }\n",
       "\n",
       "    .dataframe tbody tr th {\n",
       "        vertical-align: top;\n",
       "    }\n",
       "\n",
       "    .dataframe thead th {\n",
       "        text-align: right;\n",
       "    }\n",
       "</style>\n",
       "<table border=\"1\" class=\"dataframe\">\n",
       "  <thead>\n",
       "    <tr style=\"text-align: right;\">\n",
       "      <th></th>\n",
       "      <th>Date/Time</th>\n",
       "      <th>LV ActivePower (kW)</th>\n",
       "      <th>Wind Speed (m/s)</th>\n",
       "      <th>Theoretical_Power_Curve (KWh)</th>\n",
       "      <th>Wind Direction (°)</th>\n",
       "    </tr>\n",
       "  </thead>\n",
       "  <tbody>\n",
       "    <tr>\n",
       "      <th>0</th>\n",
       "      <td>01 01 2018 00:00</td>\n",
       "      <td>380.047791</td>\n",
       "      <td>5.311336</td>\n",
       "      <td>416.328908</td>\n",
       "      <td>259.994904</td>\n",
       "    </tr>\n",
       "    <tr>\n",
       "      <th>1</th>\n",
       "      <td>01 01 2018 00:10</td>\n",
       "      <td>453.769196</td>\n",
       "      <td>5.672167</td>\n",
       "      <td>519.917511</td>\n",
       "      <td>268.641113</td>\n",
       "    </tr>\n",
       "    <tr>\n",
       "      <th>2</th>\n",
       "      <td>01 01 2018 00:20</td>\n",
       "      <td>306.376587</td>\n",
       "      <td>5.216037</td>\n",
       "      <td>390.900016</td>\n",
       "      <td>272.564789</td>\n",
       "    </tr>\n",
       "    <tr>\n",
       "      <th>3</th>\n",
       "      <td>01 01 2018 00:30</td>\n",
       "      <td>419.645904</td>\n",
       "      <td>5.659674</td>\n",
       "      <td>516.127569</td>\n",
       "      <td>271.258087</td>\n",
       "    </tr>\n",
       "    <tr>\n",
       "      <th>4</th>\n",
       "      <td>01 01 2018 00:40</td>\n",
       "      <td>380.650696</td>\n",
       "      <td>5.577941</td>\n",
       "      <td>491.702972</td>\n",
       "      <td>265.674286</td>\n",
       "    </tr>\n",
       "  </tbody>\n",
       "</table>\n",
       "</div>"
      ],
      "text/plain": [
       "          Date/Time  LV ActivePower (kW)  Wind Speed (m/s)  \\\n",
       "0  01 01 2018 00:00           380.047791          5.311336   \n",
       "1  01 01 2018 00:10           453.769196          5.672167   \n",
       "2  01 01 2018 00:20           306.376587          5.216037   \n",
       "3  01 01 2018 00:30           419.645904          5.659674   \n",
       "4  01 01 2018 00:40           380.650696          5.577941   \n",
       "\n",
       "   Theoretical_Power_Curve (KWh)  Wind Direction (°)  \n",
       "0                     416.328908          259.994904  \n",
       "1                     519.917511          268.641113  \n",
       "2                     390.900016          272.564789  \n",
       "3                     516.127569          271.258087  \n",
       "4                     491.702972          265.674286  "
      ]
     },
     "execution_count": 3,
     "metadata": {},
     "output_type": "execute_result"
    }
   ],
   "source": [
    "data.head()"
   ]
  },
  {
   "cell_type": "code",
   "execution_count": 4,
   "id": "1443d682",
   "metadata": {},
   "outputs": [],
   "source": [
    "from datetime import datetime\n",
    "date_format = \"%d %m %Y %H:%M\"\n",
    "data[\"Date/Time\"] = [datetime.strptime(date_str, date_format) for date_str in data[\"Date/Time\"]]"
   ]
  },
  {
   "cell_type": "code",
   "execution_count": 5,
   "id": "af15d601",
   "metadata": {},
   "outputs": [
    {
     "data": {
      "text/html": [
       "<div>\n",
       "<style scoped>\n",
       "    .dataframe tbody tr th:only-of-type {\n",
       "        vertical-align: middle;\n",
       "    }\n",
       "\n",
       "    .dataframe tbody tr th {\n",
       "        vertical-align: top;\n",
       "    }\n",
       "\n",
       "    .dataframe thead th {\n",
       "        text-align: right;\n",
       "    }\n",
       "</style>\n",
       "<table border=\"1\" class=\"dataframe\">\n",
       "  <thead>\n",
       "    <tr style=\"text-align: right;\">\n",
       "      <th></th>\n",
       "      <th>Date/Time</th>\n",
       "      <th>LV ActivePower (kW)</th>\n",
       "      <th>Wind Speed (m/s)</th>\n",
       "      <th>Theoretical_Power_Curve (KWh)</th>\n",
       "      <th>Wind Direction (°)</th>\n",
       "    </tr>\n",
       "  </thead>\n",
       "  <tbody>\n",
       "    <tr>\n",
       "      <th>0</th>\n",
       "      <td>2018-01-01 00:00:00</td>\n",
       "      <td>380.047791</td>\n",
       "      <td>5.311336</td>\n",
       "      <td>416.328908</td>\n",
       "      <td>259.994904</td>\n",
       "    </tr>\n",
       "    <tr>\n",
       "      <th>1</th>\n",
       "      <td>2018-01-01 00:10:00</td>\n",
       "      <td>453.769196</td>\n",
       "      <td>5.672167</td>\n",
       "      <td>519.917511</td>\n",
       "      <td>268.641113</td>\n",
       "    </tr>\n",
       "    <tr>\n",
       "      <th>2</th>\n",
       "      <td>2018-01-01 00:20:00</td>\n",
       "      <td>306.376587</td>\n",
       "      <td>5.216037</td>\n",
       "      <td>390.900016</td>\n",
       "      <td>272.564789</td>\n",
       "    </tr>\n",
       "    <tr>\n",
       "      <th>3</th>\n",
       "      <td>2018-01-01 00:30:00</td>\n",
       "      <td>419.645904</td>\n",
       "      <td>5.659674</td>\n",
       "      <td>516.127569</td>\n",
       "      <td>271.258087</td>\n",
       "    </tr>\n",
       "    <tr>\n",
       "      <th>4</th>\n",
       "      <td>2018-01-01 00:40:00</td>\n",
       "      <td>380.650696</td>\n",
       "      <td>5.577941</td>\n",
       "      <td>491.702972</td>\n",
       "      <td>265.674286</td>\n",
       "    </tr>\n",
       "  </tbody>\n",
       "</table>\n",
       "</div>"
      ],
      "text/plain": [
       "            Date/Time  LV ActivePower (kW)  Wind Speed (m/s)  \\\n",
       "0 2018-01-01 00:00:00           380.047791          5.311336   \n",
       "1 2018-01-01 00:10:00           453.769196          5.672167   \n",
       "2 2018-01-01 00:20:00           306.376587          5.216037   \n",
       "3 2018-01-01 00:30:00           419.645904          5.659674   \n",
       "4 2018-01-01 00:40:00           380.650696          5.577941   \n",
       "\n",
       "   Theoretical_Power_Curve (KWh)  Wind Direction (°)  \n",
       "0                     416.328908          259.994904  \n",
       "1                     519.917511          268.641113  \n",
       "2                     390.900016          272.564789  \n",
       "3                     516.127569          271.258087  \n",
       "4                     491.702972          265.674286  "
      ]
     },
     "execution_count": 5,
     "metadata": {},
     "output_type": "execute_result"
    }
   ],
   "source": [
    "data.head()"
   ]
  },
  {
   "cell_type": "code",
   "execution_count": 6,
   "id": "94c6deee",
   "metadata": {},
   "outputs": [
    {
     "name": "stdout",
     "output_type": "stream",
     "text": [
      "<class 'pandas.core.frame.DataFrame'>\n",
      "RangeIndex: 50530 entries, 0 to 50529\n",
      "Data columns (total 5 columns):\n",
      " #   Column                         Non-Null Count  Dtype         \n",
      "---  ------                         --------------  -----         \n",
      " 0   Date/Time                      50530 non-null  datetime64[ns]\n",
      " 1   LV ActivePower (kW)            50530 non-null  float64       \n",
      " 2   Wind Speed (m/s)               50530 non-null  float64       \n",
      " 3   Theoretical_Power_Curve (KWh)  50530 non-null  float64       \n",
      " 4   Wind Direction (°)             50530 non-null  float64       \n",
      "dtypes: datetime64[ns](1), float64(4)\n",
      "memory usage: 1.9 MB\n"
     ]
    }
   ],
   "source": [
    "data.info()"
   ]
  },
  {
   "cell_type": "code",
   "execution_count": 7,
   "id": "171d785d",
   "metadata": {},
   "outputs": [
    {
     "data": {
      "text/plain": [
       "Date/Time                        0\n",
       "LV ActivePower (kW)              0\n",
       "Wind Speed (m/s)                 0\n",
       "Theoretical_Power_Curve (KWh)    0\n",
       "Wind Direction (°)               0\n",
       "dtype: int64"
      ]
     },
     "execution_count": 7,
     "metadata": {},
     "output_type": "execute_result"
    }
   ],
   "source": [
    "data.isnull().sum()"
   ]
  },
  {
   "cell_type": "code",
   "execution_count": 8,
   "id": "77477718",
   "metadata": {},
   "outputs": [
    {
     "data": {
      "text/html": [
       "<div>\n",
       "<style scoped>\n",
       "    .dataframe tbody tr th:only-of-type {\n",
       "        vertical-align: middle;\n",
       "    }\n",
       "\n",
       "    .dataframe tbody tr th {\n",
       "        vertical-align: top;\n",
       "    }\n",
       "\n",
       "    .dataframe thead th {\n",
       "        text-align: right;\n",
       "    }\n",
       "</style>\n",
       "<table border=\"1\" class=\"dataframe\">\n",
       "  <thead>\n",
       "    <tr style=\"text-align: right;\">\n",
       "      <th></th>\n",
       "      <th>Date/Time</th>\n",
       "      <th>LV ActivePower (kW)</th>\n",
       "      <th>Wind Speed (m/s)</th>\n",
       "      <th>Theoretical_Power_Curve (KWh)</th>\n",
       "      <th>Wind Direction (°)</th>\n",
       "    </tr>\n",
       "  </thead>\n",
       "  <tbody>\n",
       "    <tr>\n",
       "      <th>count</th>\n",
       "      <td>50530</td>\n",
       "      <td>50530.000000</td>\n",
       "      <td>50530.000000</td>\n",
       "      <td>50530.000000</td>\n",
       "      <td>50530.000000</td>\n",
       "    </tr>\n",
       "    <tr>\n",
       "      <th>mean</th>\n",
       "      <td>2018-07-01 20:01:30.065307648</td>\n",
       "      <td>1307.684332</td>\n",
       "      <td>7.557952</td>\n",
       "      <td>1492.175463</td>\n",
       "      <td>123.687559</td>\n",
       "    </tr>\n",
       "    <tr>\n",
       "      <th>min</th>\n",
       "      <td>2018-01-01 00:00:00</td>\n",
       "      <td>-2.471405</td>\n",
       "      <td>0.000000</td>\n",
       "      <td>0.000000</td>\n",
       "      <td>0.000000</td>\n",
       "    </tr>\n",
       "    <tr>\n",
       "      <th>25%</th>\n",
       "      <td>2018-04-03 05:22:30</td>\n",
       "      <td>50.677890</td>\n",
       "      <td>4.201395</td>\n",
       "      <td>161.328167</td>\n",
       "      <td>49.315437</td>\n",
       "    </tr>\n",
       "    <tr>\n",
       "      <th>50%</th>\n",
       "      <td>2018-06-30 16:15:00</td>\n",
       "      <td>825.838074</td>\n",
       "      <td>7.104594</td>\n",
       "      <td>1063.776282</td>\n",
       "      <td>73.712978</td>\n",
       "    </tr>\n",
       "    <tr>\n",
       "      <th>75%</th>\n",
       "      <td>2018-09-26 18:57:30</td>\n",
       "      <td>2482.507568</td>\n",
       "      <td>10.300020</td>\n",
       "      <td>2964.972462</td>\n",
       "      <td>201.696720</td>\n",
       "    </tr>\n",
       "    <tr>\n",
       "      <th>max</th>\n",
       "      <td>2018-12-31 23:50:00</td>\n",
       "      <td>3618.732910</td>\n",
       "      <td>25.206011</td>\n",
       "      <td>3600.000000</td>\n",
       "      <td>359.997589</td>\n",
       "    </tr>\n",
       "    <tr>\n",
       "      <th>std</th>\n",
       "      <td>NaN</td>\n",
       "      <td>1312.459242</td>\n",
       "      <td>4.227166</td>\n",
       "      <td>1368.018238</td>\n",
       "      <td>93.443736</td>\n",
       "    </tr>\n",
       "  </tbody>\n",
       "</table>\n",
       "</div>"
      ],
      "text/plain": [
       "                           Date/Time  LV ActivePower (kW)  Wind Speed (m/s)  \\\n",
       "count                          50530         50530.000000      50530.000000   \n",
       "mean   2018-07-01 20:01:30.065307648          1307.684332          7.557952   \n",
       "min              2018-01-01 00:00:00            -2.471405          0.000000   \n",
       "25%              2018-04-03 05:22:30            50.677890          4.201395   \n",
       "50%              2018-06-30 16:15:00           825.838074          7.104594   \n",
       "75%              2018-09-26 18:57:30          2482.507568         10.300020   \n",
       "max              2018-12-31 23:50:00          3618.732910         25.206011   \n",
       "std                              NaN          1312.459242          4.227166   \n",
       "\n",
       "       Theoretical_Power_Curve (KWh)  Wind Direction (°)  \n",
       "count                   50530.000000        50530.000000  \n",
       "mean                     1492.175463          123.687559  \n",
       "min                         0.000000            0.000000  \n",
       "25%                       161.328167           49.315437  \n",
       "50%                      1063.776282           73.712978  \n",
       "75%                      2964.972462          201.696720  \n",
       "max                      3600.000000          359.997589  \n",
       "std                      1368.018238           93.443736  "
      ]
     },
     "execution_count": 8,
     "metadata": {},
     "output_type": "execute_result"
    }
   ],
   "source": [
    "data.describe()"
   ]
  },
  {
   "cell_type": "code",
   "execution_count": 9,
   "id": "74550487",
   "metadata": {},
   "outputs": [
    {
     "data": {
      "text/html": [
       "<div>\n",
       "<style scoped>\n",
       "    .dataframe tbody tr th:only-of-type {\n",
       "        vertical-align: middle;\n",
       "    }\n",
       "\n",
       "    .dataframe tbody tr th {\n",
       "        vertical-align: top;\n",
       "    }\n",
       "\n",
       "    .dataframe thead th {\n",
       "        text-align: right;\n",
       "    }\n",
       "</style>\n",
       "<table border=\"1\" class=\"dataframe\">\n",
       "  <thead>\n",
       "    <tr style=\"text-align: right;\">\n",
       "      <th></th>\n",
       "      <th>Date/Time</th>\n",
       "      <th>LV ActivePower (kW)</th>\n",
       "      <th>Wind Speed (m/s)</th>\n",
       "      <th>Theoretical_Power_Curve (KWh)</th>\n",
       "      <th>Wind Direction (°)</th>\n",
       "    </tr>\n",
       "  </thead>\n",
       "  <tbody>\n",
       "    <tr>\n",
       "      <th>0</th>\n",
       "      <td>2018-01-01 00:00:00</td>\n",
       "      <td>380.047791</td>\n",
       "      <td>5.311336</td>\n",
       "      <td>416.328908</td>\n",
       "      <td>259.994904</td>\n",
       "    </tr>\n",
       "    <tr>\n",
       "      <th>1</th>\n",
       "      <td>2018-01-01 00:10:00</td>\n",
       "      <td>453.769196</td>\n",
       "      <td>5.672167</td>\n",
       "      <td>519.917511</td>\n",
       "      <td>268.641113</td>\n",
       "    </tr>\n",
       "  </tbody>\n",
       "</table>\n",
       "</div>"
      ],
      "text/plain": [
       "            Date/Time  LV ActivePower (kW)  Wind Speed (m/s)  \\\n",
       "0 2018-01-01 00:00:00           380.047791          5.311336   \n",
       "1 2018-01-01 00:10:00           453.769196          5.672167   \n",
       "\n",
       "   Theoretical_Power_Curve (KWh)  Wind Direction (°)  \n",
       "0                     416.328908          259.994904  \n",
       "1                     519.917511          268.641113  "
      ]
     },
     "execution_count": 9,
     "metadata": {},
     "output_type": "execute_result"
    }
   ],
   "source": [
    "data.head(2)"
   ]
  },
  {
   "cell_type": "code",
   "execution_count": 10,
   "id": "8595e72a",
   "metadata": {},
   "outputs": [],
   "source": [
    "data = data[(data[\"Wind Speed (m/s)\"] >= 0) & (data[\"LV ActivePower (kW)\"] >= 0) & (data[\"Theoretical_Power_Curve (KWh)\"]>=0) & (data[\"Wind Direction (°)\"]>=0)]"
   ]
  },
  {
   "cell_type": "code",
   "execution_count": 11,
   "id": "12c3a1e5",
   "metadata": {},
   "outputs": [
    {
     "data": {
      "text/plain": [
       "Index(['Date/Time', 'LV ActivePower (kW)', 'Wind Speed (m/s)',\n",
       "       'Theoretical_Power_Curve (KWh)', 'Wind Direction (°)'],\n",
       "      dtype='object')"
      ]
     },
     "execution_count": 11,
     "metadata": {},
     "output_type": "execute_result"
    }
   ],
   "source": [
    "data.columns"
   ]
  },
  {
   "cell_type": "code",
   "execution_count": 12,
   "id": "22072064",
   "metadata": {},
   "outputs": [
    {
     "name": "stdout",
     "output_type": "stream",
     "text": [
      "<class 'pandas.core.frame.DataFrame'>\n",
      "Index: 50473 entries, 0 to 50529\n",
      "Data columns (total 5 columns):\n",
      " #   Column                         Non-Null Count  Dtype         \n",
      "---  ------                         --------------  -----         \n",
      " 0   Date/Time                      50473 non-null  datetime64[ns]\n",
      " 1   LV ActivePower (kW)            50473 non-null  float64       \n",
      " 2   Wind Speed (m/s)               50473 non-null  float64       \n",
      " 3   Theoretical_Power_Curve (KWh)  50473 non-null  float64       \n",
      " 4   Wind Direction (°)             50473 non-null  float64       \n",
      "dtypes: datetime64[ns](1), float64(4)\n",
      "memory usage: 2.3 MB\n"
     ]
    }
   ],
   "source": [
    "data.info()"
   ]
  },
  {
   "cell_type": "code",
   "execution_count": 13,
   "id": "411c8745",
   "metadata": {},
   "outputs": [
    {
     "data": {
      "image/png": "[encoded data removed]",
      "text/plain": [
       "<Figure size 1200x1000 with 4 Axes>"
      ]
     },
     "metadata": {},
     "output_type": "display_data"
    }
   ],
   "source": [
    "fig, axs = plt.subplots(nrows= 2, ncols= 2, figsize=(12,10))\n",
    "axs[0, 0].plot(data[\"Date/Time\"], data[\"LV ActivePower (kW)\"], color=\"lightblue\")\n",
    "axs[0, 0].set_title('LV ActivePower (kW)')\n",
    "axs[0, 1].plot(data[\"Date/Time\"], data[\"Wind Speed (m/s)\"], color=\"orange\")\n",
    "axs[0, 1].set_title('Wid Speed (m/s)')\n",
    "\n",
    "axs[1, 0].plot(data[\"Date/Time\"], data[\"Theoretical_Power_Curve (KWh)\"], c=\"green\")\n",
    "axs[1, 0].set_title('Theoretical_Power_Curve (KWh)')\n",
    "axs[1, 1].plot(data[\"Date/Time\"], data[\"Wind Direction (°)\"], c=\"red\")\n",
    "axs[1, 1].set_title('Wind Direction (°)')\n",
    "plt.show()"
   ]
  },
  {
   "cell_type": "code",
   "execution_count": 14,
   "id": "77b2abd1",
   "metadata": {},
   "outputs": [
    {
     "data": {
      "text/html": [
       "<div>\n",
       "<style scoped>\n",
       "    .dataframe tbody tr th:only-of-type {\n",
       "        vertical-align: middle;\n",
       "    }\n",
       "\n",
       "    .dataframe tbody tr th {\n",
       "        vertical-align: top;\n",
       "    }\n",
       "\n",
       "    .dataframe thead th {\n",
       "        text-align: right;\n",
       "    }\n",
       "</style>\n",
       "<table border=\"1\" class=\"dataframe\">\n",
       "  <thead>\n",
       "    <tr style=\"text-align: right;\">\n",
       "      <th></th>\n",
       "      <th>LV ActivePower (kW)</th>\n",
       "      <th>Wind Speed (m/s)</th>\n",
       "      <th>Theoretical_Power_Curve (KWh)</th>\n",
       "      <th>Wind Direction (°)</th>\n",
       "    </tr>\n",
       "    <tr>\n",
       "      <th>Date/Time</th>\n",
       "      <th></th>\n",
       "      <th></th>\n",
       "      <th></th>\n",
       "      <th></th>\n",
       "    </tr>\n",
       "  </thead>\n",
       "  <tbody>\n",
       "    <tr>\n",
       "      <th>2018-01-01 00:00:00</th>\n",
       "      <td>380.047791</td>\n",
       "      <td>5.311336</td>\n",
       "      <td>416.328908</td>\n",
       "      <td>259.994904</td>\n",
       "    </tr>\n",
       "    <tr>\n",
       "      <th>2018-01-01 00:10:00</th>\n",
       "      <td>453.769196</td>\n",
       "      <td>5.672167</td>\n",
       "      <td>519.917511</td>\n",
       "      <td>268.641113</td>\n",
       "    </tr>\n",
       "    <tr>\n",
       "      <th>2018-01-01 00:20:00</th>\n",
       "      <td>306.376587</td>\n",
       "      <td>5.216037</td>\n",
       "      <td>390.900016</td>\n",
       "      <td>272.564789</td>\n",
       "    </tr>\n",
       "    <tr>\n",
       "      <th>2018-01-01 00:30:00</th>\n",
       "      <td>419.645904</td>\n",
       "      <td>5.659674</td>\n",
       "      <td>516.127569</td>\n",
       "      <td>271.258087</td>\n",
       "    </tr>\n",
       "    <tr>\n",
       "      <th>2018-01-01 00:40:00</th>\n",
       "      <td>380.650696</td>\n",
       "      <td>5.577941</td>\n",
       "      <td>491.702972</td>\n",
       "      <td>265.674286</td>\n",
       "    </tr>\n",
       "    <tr>\n",
       "      <th>...</th>\n",
       "      <td>...</td>\n",
       "      <td>...</td>\n",
       "      <td>...</td>\n",
       "      <td>...</td>\n",
       "    </tr>\n",
       "    <tr>\n",
       "      <th>2018-12-31 23:10:00</th>\n",
       "      <td>2963.980957</td>\n",
       "      <td>11.404030</td>\n",
       "      <td>3397.190793</td>\n",
       "      <td>80.502724</td>\n",
       "    </tr>\n",
       "    <tr>\n",
       "      <th>2018-12-31 23:20:00</th>\n",
       "      <td>1684.353027</td>\n",
       "      <td>7.332648</td>\n",
       "      <td>1173.055771</td>\n",
       "      <td>84.062599</td>\n",
       "    </tr>\n",
       "    <tr>\n",
       "      <th>2018-12-31 23:30:00</th>\n",
       "      <td>2201.106934</td>\n",
       "      <td>8.435358</td>\n",
       "      <td>1788.284755</td>\n",
       "      <td>84.742500</td>\n",
       "    </tr>\n",
       "    <tr>\n",
       "      <th>2018-12-31 23:40:00</th>\n",
       "      <td>2515.694092</td>\n",
       "      <td>9.421366</td>\n",
       "      <td>2418.382503</td>\n",
       "      <td>84.297913</td>\n",
       "    </tr>\n",
       "    <tr>\n",
       "      <th>2018-12-31 23:50:00</th>\n",
       "      <td>2820.466064</td>\n",
       "      <td>9.979332</td>\n",
       "      <td>2779.184096</td>\n",
       "      <td>82.274620</td>\n",
       "    </tr>\n",
       "  </tbody>\n",
       "</table>\n",
       "<p>50473 rows × 4 columns</p>\n",
       "</div>"
      ],
      "text/plain": [
       "                     LV ActivePower (kW)  Wind Speed (m/s)  \\\n",
       "Date/Time                                                    \n",
       "2018-01-01 00:00:00           380.047791          5.311336   \n",
       "2018-01-01 00:10:00           453.769196          5.672167   \n",
       "2018-01-01 00:20:00           306.376587          5.216037   \n",
       "2018-01-01 00:30:00           419.645904          5.659674   \n",
       "2018-01-01 00:40:00           380.650696          5.577941   \n",
       "...                                  ...               ...   \n",
       "2018-12-31 23:10:00          2963.980957         11.404030   \n",
       "2018-12-31 23:20:00          1684.353027          7.332648   \n",
       "2018-12-31 23:30:00          2201.106934          8.435358   \n",
       "2018-12-31 23:40:00          2515.694092          9.421366   \n",
       "2018-12-31 23:50:00          2820.466064          9.979332   \n",
       "\n",
       "                     Theoretical_Power_Curve (KWh)  Wind Direction (°)  \n",
       "Date/Time                                                               \n",
       "2018-01-01 00:00:00                     416.328908          259.994904  \n",
       "2018-01-01 00:10:00                     519.917511          268.641113  \n",
       "2018-01-01 00:20:00                     390.900016          272.564789  \n",
       "2018-01-01 00:30:00                     516.127569          271.258087  \n",
       "2018-01-01 00:40:00                     491.702972          265.674286  \n",
       "...                                            ...                 ...  \n",
       "2018-12-31 23:10:00                    3397.190793           80.502724  \n",
       "2018-12-31 23:20:00                    1173.055771           84.062599  \n",
       "2018-12-31 23:30:00                    1788.284755           84.742500  \n",
       "2018-12-31 23:40:00                    2418.382503           84.297913  \n",
       "2018-12-31 23:50:00                    2779.184096           82.274620  \n",
       "\n",
       "[50473 rows x 4 columns]"
      ]
     },
     "execution_count": 14,
     "metadata": {},
     "output_type": "execute_result"
    }
   ],
   "source": [
    "data.groupby(\"Date/Time\")[[\"LV ActivePower (kW)\",\"Wind Speed (m/s)\",\"Theoretical_Power_Curve (KWh)\",\"Wind Direction (°)\"]].mean()"
   ]
  },
  {
   "cell_type": "code",
   "execution_count": 15,
   "id": "9f9abc40",
   "metadata": {},
   "outputs": [],
   "source": [
    "data.columns = [\"Time\",\"Active_Power\",\"Wind_Speed\",\"Theorotical_Power\",\"Wind_Direction\"]"
   ]
  },
  {
   "cell_type": "code",
   "execution_count": 16,
   "id": "2997c4ad",
   "metadata": {},
   "outputs": [
    {
     "data": {
      "text/html": [
       "<div>\n",
       "<style scoped>\n",
       "    .dataframe tbody tr th:only-of-type {\n",
       "        vertical-align: middle;\n",
       "    }\n",
       "\n",
       "    .dataframe tbody tr th {\n",
       "        vertical-align: top;\n",
       "    }\n",
       "\n",
       "    .dataframe thead th {\n",
       "        text-align: right;\n",
       "    }\n",
       "</style>\n",
       "<table border=\"1\" class=\"dataframe\">\n",
       "  <thead>\n",
       "    <tr style=\"text-align: right;\">\n",
       "      <th></th>\n",
       "      <th>Time</th>\n",
       "      <th>Active_Power</th>\n",
       "      <th>Wind_Speed</th>\n",
       "      <th>Theorotical_Power</th>\n",
       "      <th>Wind_Direction</th>\n",
       "    </tr>\n",
       "  </thead>\n",
       "  <tbody>\n",
       "    <tr>\n",
       "      <th>0</th>\n",
       "      <td>2018-01-01 00:00:00</td>\n",
       "      <td>380.047791</td>\n",
       "      <td>5.311336</td>\n",
       "      <td>416.328908</td>\n",
       "      <td>259.994904</td>\n",
       "    </tr>\n",
       "    <tr>\n",
       "      <th>1</th>\n",
       "      <td>2018-01-01 00:10:00</td>\n",
       "      <td>453.769196</td>\n",
       "      <td>5.672167</td>\n",
       "      <td>519.917511</td>\n",
       "      <td>268.641113</td>\n",
       "    </tr>\n",
       "    <tr>\n",
       "      <th>2</th>\n",
       "      <td>2018-01-01 00:20:00</td>\n",
       "      <td>306.376587</td>\n",
       "      <td>5.216037</td>\n",
       "      <td>390.900016</td>\n",
       "      <td>272.564789</td>\n",
       "    </tr>\n",
       "    <tr>\n",
       "      <th>3</th>\n",
       "      <td>2018-01-01 00:30:00</td>\n",
       "      <td>419.645904</td>\n",
       "      <td>5.659674</td>\n",
       "      <td>516.127569</td>\n",
       "      <td>271.258087</td>\n",
       "    </tr>\n",
       "    <tr>\n",
       "      <th>4</th>\n",
       "      <td>2018-01-01 00:40:00</td>\n",
       "      <td>380.650696</td>\n",
       "      <td>5.577941</td>\n",
       "      <td>491.702972</td>\n",
       "      <td>265.674286</td>\n",
       "    </tr>\n",
       "  </tbody>\n",
       "</table>\n",
       "</div>"
      ],
      "text/plain": [
       "                 Time  Active_Power  Wind_Speed  Theorotical_Power  \\\n",
       "0 2018-01-01 00:00:00    380.047791    5.311336         416.328908   \n",
       "1 2018-01-01 00:10:00    453.769196    5.672167         519.917511   \n",
       "2 2018-01-01 00:20:00    306.376587    5.216037         390.900016   \n",
       "3 2018-01-01 00:30:00    419.645904    5.659674         516.127569   \n",
       "4 2018-01-01 00:40:00    380.650696    5.577941         491.702972   \n",
       "\n",
       "   Wind_Direction  \n",
       "0      259.994904  \n",
       "1      268.641113  \n",
       "2      272.564789  \n",
       "3      271.258087  \n",
       "4      265.674286  "
      ]
     },
     "execution_count": 16,
     "metadata": {},
     "output_type": "execute_result"
    }
   ],
   "source": [
    "data.head()"
   ]
  },
  {
   "cell_type": "code",
   "execution_count": 17,
   "id": "c4530e17",
   "metadata": {},
   "outputs": [
    {
     "data": {
      "text/plain": [
       "False"
      ]
     },
     "execution_count": 17,
     "metadata": {},
     "output_type": "execute_result"
    }
   ],
   "source": [
    "data.isnull().values.any() # There is no Nan values"
   ]
  },
  {
   "cell_type": "code",
   "execution_count": 18,
   "id": "4c3d1950",
   "metadata": {},
   "outputs": [],
   "source": [
    "duplicates = data.duplicated(subset=data.columns,keep=False)"
   ]
  },
  {
   "cell_type": "code",
   "execution_count": 19,
   "id": "91f860b1",
   "metadata": {},
   "outputs": [
    {
     "data": {
      "text/html": [
       "<div>\n",
       "<style scoped>\n",
       "    .dataframe tbody tr th:only-of-type {\n",
       "        vertical-align: middle;\n",
       "    }\n",
       "\n",
       "    .dataframe tbody tr th {\n",
       "        vertical-align: top;\n",
       "    }\n",
       "\n",
       "    .dataframe thead th {\n",
       "        text-align: right;\n",
       "    }\n",
       "</style>\n",
       "<table border=\"1\" class=\"dataframe\">\n",
       "  <thead>\n",
       "    <tr style=\"text-align: right;\">\n",
       "      <th></th>\n",
       "      <th>Time</th>\n",
       "      <th>Active_Power</th>\n",
       "      <th>Wind_Speed</th>\n",
       "      <th>Theorotical_Power</th>\n",
       "      <th>Wind_Direction</th>\n",
       "    </tr>\n",
       "  </thead>\n",
       "  <tbody>\n",
       "  </tbody>\n",
       "</table>\n",
       "</div>"
      ],
      "text/plain": [
       "Empty DataFrame\n",
       "Columns: [Time, Active_Power, Wind_Speed, Theorotical_Power, Wind_Direction]\n",
       "Index: []"
      ]
     },
     "execution_count": 19,
     "metadata": {},
     "output_type": "execute_result"
    }
   ],
   "source": [
    "data[duplicates] # There is no duplicated values"
   ]
  },
  {
   "cell_type": "code",
   "execution_count": 20,
   "id": "b85f963f",
   "metadata": {},
   "outputs": [
    {
     "data": {
      "text/html": [
       "<div>\n",
       "<style scoped>\n",
       "    .dataframe tbody tr th:only-of-type {\n",
       "        vertical-align: middle;\n",
       "    }\n",
       "\n",
       "    .dataframe tbody tr th {\n",
       "        vertical-align: top;\n",
       "    }\n",
       "\n",
       "    .dataframe thead th {\n",
       "        text-align: right;\n",
       "    }\n",
       "</style>\n",
       "<table border=\"1\" class=\"dataframe\">\n",
       "  <thead>\n",
       "    <tr style=\"text-align: right;\">\n",
       "      <th></th>\n",
       "      <th>count</th>\n",
       "      <th>mean</th>\n",
       "      <th>min</th>\n",
       "      <th>25%</th>\n",
       "      <th>50%</th>\n",
       "      <th>75%</th>\n",
       "      <th>max</th>\n",
       "      <th>std</th>\n",
       "    </tr>\n",
       "  </thead>\n",
       "  <tbody>\n",
       "    <tr>\n",
       "      <th>Time</th>\n",
       "      <td>50473</td>\n",
       "      <td>2018-07-01 20:58:44.799397632</td>\n",
       "      <td>2018-01-01 00:00:00</td>\n",
       "      <td>2018-04-03 07:20:00</td>\n",
       "      <td>2018-06-30 17:10:00</td>\n",
       "      <td>2018-09-26 19:20:00</td>\n",
       "      <td>2018-12-31 23:50:00</td>\n",
       "      <td>NaN</td>\n",
       "    </tr>\n",
       "    <tr>\n",
       "      <th>Active_Power</th>\n",
       "      <td>50473.0</td>\n",
       "      <td>1309.161489</td>\n",
       "      <td>0.0</td>\n",
       "      <td>52.74054</td>\n",
       "      <td>828.006714</td>\n",
       "      <td>2484.364014</td>\n",
       "      <td>3618.73291</td>\n",
       "      <td>1312.463427</td>\n",
       "    </tr>\n",
       "    <tr>\n",
       "      <th>Wind_Speed</th>\n",
       "      <td>50473.0</td>\n",
       "      <td>7.563317</td>\n",
       "      <td>0.0</td>\n",
       "      <td>4.210382</td>\n",
       "      <td>7.111886</td>\n",
       "      <td>10.30341</td>\n",
       "      <td>25.206011</td>\n",
       "      <td>4.226509</td>\n",
       "    </tr>\n",
       "    <tr>\n",
       "      <th>Theorotical_Power</th>\n",
       "      <td>50473.0</td>\n",
       "      <td>1493.846082</td>\n",
       "      <td>0.0</td>\n",
       "      <td>163.084179</td>\n",
       "      <td>1067.1613</td>\n",
       "      <td>2966.774233</td>\n",
       "      <td>3600.0</td>\n",
       "      <td>1367.885865</td>\n",
       "    </tr>\n",
       "    <tr>\n",
       "      <th>Wind_Direction</th>\n",
       "      <td>50473.0</td>\n",
       "      <td>123.648102</td>\n",
       "      <td>0.0</td>\n",
       "      <td>49.304878</td>\n",
       "      <td>73.660377</td>\n",
       "      <td>201.684006</td>\n",
       "      <td>359.997589</td>\n",
       "      <td>93.446383</td>\n",
       "    </tr>\n",
       "  </tbody>\n",
       "</table>\n",
       "</div>"
      ],
      "text/plain": [
       "                     count                           mean  \\\n",
       "Time                 50473  2018-07-01 20:58:44.799397632   \n",
       "Active_Power       50473.0                    1309.161489   \n",
       "Wind_Speed         50473.0                       7.563317   \n",
       "Theorotical_Power  50473.0                    1493.846082   \n",
       "Wind_Direction     50473.0                     123.648102   \n",
       "\n",
       "                                   min                  25%  \\\n",
       "Time               2018-01-01 00:00:00  2018-04-03 07:20:00   \n",
       "Active_Power                       0.0             52.74054   \n",
       "Wind_Speed                         0.0             4.210382   \n",
       "Theorotical_Power                  0.0           163.084179   \n",
       "Wind_Direction                     0.0            49.304878   \n",
       "\n",
       "                                   50%                  75%  \\\n",
       "Time               2018-06-30 17:10:00  2018-09-26 19:20:00   \n",
       "Active_Power                828.006714          2484.364014   \n",
       "Wind_Speed                    7.111886             10.30341   \n",
       "Theorotical_Power            1067.1613          2966.774233   \n",
       "Wind_Direction               73.660377           201.684006   \n",
       "\n",
       "                                   max          std  \n",
       "Time               2018-12-31 23:50:00          NaN  \n",
       "Active_Power                3618.73291  1312.463427  \n",
       "Wind_Speed                   25.206011     4.226509  \n",
       "Theorotical_Power               3600.0  1367.885865  \n",
       "Wind_Direction              359.997589    93.446383  "
      ]
     },
     "execution_count": 20,
     "metadata": {},
     "output_type": "execute_result"
    }
   ],
   "source": [
    "data.describe().T"
   ]
  },
  {
   "cell_type": "code",
   "execution_count": 21,
   "id": "b300cb9e",
   "metadata": {},
   "outputs": [
    {
     "data": {
      "text/html": [
       "<div>\n",
       "<style scoped>\n",
       "    .dataframe tbody tr th:only-of-type {\n",
       "        vertical-align: middle;\n",
       "    }\n",
       "\n",
       "    .dataframe tbody tr th {\n",
       "        vertical-align: top;\n",
       "    }\n",
       "\n",
       "    .dataframe thead th {\n",
       "        text-align: right;\n",
       "    }\n",
       "</style>\n",
       "<table border=\"1\" class=\"dataframe\">\n",
       "  <thead>\n",
       "    <tr style=\"text-align: right;\">\n",
       "      <th></th>\n",
       "      <th>Time</th>\n",
       "      <th>Active_Power</th>\n",
       "      <th>Wind_Speed</th>\n",
       "      <th>Theorotical_Power</th>\n",
       "      <th>Wind_Direction</th>\n",
       "    </tr>\n",
       "  </thead>\n",
       "  <tbody>\n",
       "    <tr>\n",
       "      <th>19</th>\n",
       "      <td>2018-01-01 03:10:00</td>\n",
       "      <td>787.246216</td>\n",
       "      <td>6.437531</td>\n",
       "      <td>781.771216</td>\n",
       "      <td>257.560211</td>\n",
       "    </tr>\n",
       "    <tr>\n",
       "      <th>20</th>\n",
       "      <td>2018-01-01 03:20:00</td>\n",
       "      <td>722.864075</td>\n",
       "      <td>6.220024</td>\n",
       "      <td>700.764700</td>\n",
       "      <td>255.926498</td>\n",
       "    </tr>\n",
       "    <tr>\n",
       "      <th>28</th>\n",
       "      <td>2018-01-01 04:40:00</td>\n",
       "      <td>1098.932007</td>\n",
       "      <td>7.101376</td>\n",
       "      <td>1062.285034</td>\n",
       "      <td>245.095596</td>\n",
       "    </tr>\n",
       "    <tr>\n",
       "      <th>29</th>\n",
       "      <td>2018-01-01 04:50:00</td>\n",
       "      <td>1021.458008</td>\n",
       "      <td>6.955307</td>\n",
       "      <td>995.995855</td>\n",
       "      <td>245.410202</td>\n",
       "    </tr>\n",
       "    <tr>\n",
       "      <th>30</th>\n",
       "      <td>2018-01-01 05:00:00</td>\n",
       "      <td>1164.892944</td>\n",
       "      <td>7.098298</td>\n",
       "      <td>1060.859712</td>\n",
       "      <td>235.227905</td>\n",
       "    </tr>\n",
       "    <tr>\n",
       "      <th>...</th>\n",
       "      <td>...</td>\n",
       "      <td>...</td>\n",
       "      <td>...</td>\n",
       "      <td>...</td>\n",
       "      <td>...</td>\n",
       "    </tr>\n",
       "    <tr>\n",
       "      <th>50516</th>\n",
       "      <td>2018-12-31 21:40:00</td>\n",
       "      <td>1992.348999</td>\n",
       "      <td>8.433422</td>\n",
       "      <td>1787.100338</td>\n",
       "      <td>80.132507</td>\n",
       "    </tr>\n",
       "    <tr>\n",
       "      <th>50526</th>\n",
       "      <td>2018-12-31 23:20:00</td>\n",
       "      <td>1684.353027</td>\n",
       "      <td>7.332648</td>\n",
       "      <td>1173.055771</td>\n",
       "      <td>84.062599</td>\n",
       "    </tr>\n",
       "    <tr>\n",
       "      <th>50527</th>\n",
       "      <td>2018-12-31 23:30:00</td>\n",
       "      <td>2201.106934</td>\n",
       "      <td>8.435358</td>\n",
       "      <td>1788.284755</td>\n",
       "      <td>84.742500</td>\n",
       "    </tr>\n",
       "    <tr>\n",
       "      <th>50528</th>\n",
       "      <td>2018-12-31 23:40:00</td>\n",
       "      <td>2515.694092</td>\n",
       "      <td>9.421366</td>\n",
       "      <td>2418.382503</td>\n",
       "      <td>84.297913</td>\n",
       "    </tr>\n",
       "    <tr>\n",
       "      <th>50529</th>\n",
       "      <td>2018-12-31 23:50:00</td>\n",
       "      <td>2820.466064</td>\n",
       "      <td>9.979332</td>\n",
       "      <td>2779.184096</td>\n",
       "      <td>82.274620</td>\n",
       "    </tr>\n",
       "  </tbody>\n",
       "</table>\n",
       "<p>7185 rows × 5 columns</p>\n",
       "</div>"
      ],
      "text/plain": [
       "                     Time  Active_Power  Wind_Speed  Theorotical_Power  \\\n",
       "19    2018-01-01 03:10:00    787.246216    6.437531         781.771216   \n",
       "20    2018-01-01 03:20:00    722.864075    6.220024         700.764700   \n",
       "28    2018-01-01 04:40:00   1098.932007    7.101376        1062.285034   \n",
       "29    2018-01-01 04:50:00   1021.458008    6.955307         995.995855   \n",
       "30    2018-01-01 05:00:00   1164.892944    7.098298        1060.859712   \n",
       "...                   ...           ...         ...                ...   \n",
       "50516 2018-12-31 21:40:00   1992.348999    8.433422        1787.100338   \n",
       "50526 2018-12-31 23:20:00   1684.353027    7.332648        1173.055771   \n",
       "50527 2018-12-31 23:30:00   2201.106934    8.435358        1788.284755   \n",
       "50528 2018-12-31 23:40:00   2515.694092    9.421366        2418.382503   \n",
       "50529 2018-12-31 23:50:00   2820.466064    9.979332        2779.184096   \n",
       "\n",
       "       Wind_Direction  \n",
       "19         257.560211  \n",
       "20         255.926498  \n",
       "28         245.095596  \n",
       "29         245.410202  \n",
       "30         235.227905  \n",
       "...               ...  \n",
       "50516       80.132507  \n",
       "50526       84.062599  \n",
       "50527       84.742500  \n",
       "50528       84.297913  \n",
       "50529       82.274620  \n",
       "\n",
       "[7185 rows x 5 columns]"
      ]
     },
     "execution_count": 21,
     "metadata": {},
     "output_type": "execute_result"
    }
   ],
   "source": [
    "data[data.Active_Power>data.Theorotical_Power]"
   ]
  },
  {
   "cell_type": "code",
   "execution_count": 22,
   "id": "b971d53d",
   "metadata": {},
   "outputs": [
    {
     "data": {
      "text/plain": [
       "Series([], Name: Wind_Direction, dtype: float64)"
      ]
     },
     "execution_count": 22,
     "metadata": {},
     "output_type": "execute_result"
    }
   ],
   "source": [
    "data.loc[data[\"Wind_Direction\"]>360, \"Wind_Direction\"] # Wind direction can be maxiumum 360 "
   ]
  },
  {
   "cell_type": "code",
   "execution_count": 23,
   "id": "ae1f088c",
   "metadata": {},
   "outputs": [
    {
     "data": {
      "text/html": [
       "<div>\n",
       "<style scoped>\n",
       "    .dataframe tbody tr th:only-of-type {\n",
       "        vertical-align: middle;\n",
       "    }\n",
       "\n",
       "    .dataframe tbody tr th {\n",
       "        vertical-align: top;\n",
       "    }\n",
       "\n",
       "    .dataframe thead th {\n",
       "        text-align: right;\n",
       "    }\n",
       "</style>\n",
       "<table border=\"1\" class=\"dataframe\">\n",
       "  <thead>\n",
       "    <tr style=\"text-align: right;\">\n",
       "      <th></th>\n",
       "      <th>Time</th>\n",
       "      <th>Active_Power</th>\n",
       "      <th>Wind_Speed</th>\n",
       "      <th>Theorotical_Power</th>\n",
       "      <th>Wind_Direction</th>\n",
       "    </tr>\n",
       "  </thead>\n",
       "  <tbody>\n",
       "    <tr>\n",
       "      <th>0</th>\n",
       "      <td>2018-01-01 00:00:00</td>\n",
       "      <td>380.047791</td>\n",
       "      <td>5.311336</td>\n",
       "      <td>416.328908</td>\n",
       "      <td>259.994904</td>\n",
       "    </tr>\n",
       "    <tr>\n",
       "      <th>1</th>\n",
       "      <td>2018-01-01 00:10:00</td>\n",
       "      <td>453.769196</td>\n",
       "      <td>5.672167</td>\n",
       "      <td>519.917511</td>\n",
       "      <td>268.641113</td>\n",
       "    </tr>\n",
       "    <tr>\n",
       "      <th>2</th>\n",
       "      <td>2018-01-01 00:20:00</td>\n",
       "      <td>306.376587</td>\n",
       "      <td>5.216037</td>\n",
       "      <td>390.900016</td>\n",
       "      <td>272.564789</td>\n",
       "    </tr>\n",
       "    <tr>\n",
       "      <th>3</th>\n",
       "      <td>2018-01-01 00:30:00</td>\n",
       "      <td>419.645904</td>\n",
       "      <td>5.659674</td>\n",
       "      <td>516.127569</td>\n",
       "      <td>271.258087</td>\n",
       "    </tr>\n",
       "    <tr>\n",
       "      <th>4</th>\n",
       "      <td>2018-01-01 00:40:00</td>\n",
       "      <td>380.650696</td>\n",
       "      <td>5.577941</td>\n",
       "      <td>491.702972</td>\n",
       "      <td>265.674286</td>\n",
       "    </tr>\n",
       "  </tbody>\n",
       "</table>\n",
       "</div>"
      ],
      "text/plain": [
       "                 Time  Active_Power  Wind_Speed  Theorotical_Power  \\\n",
       "0 2018-01-01 00:00:00    380.047791    5.311336         416.328908   \n",
       "1 2018-01-01 00:10:00    453.769196    5.672167         519.917511   \n",
       "2 2018-01-01 00:20:00    306.376587    5.216037         390.900016   \n",
       "3 2018-01-01 00:30:00    419.645904    5.659674         516.127569   \n",
       "4 2018-01-01 00:40:00    380.650696    5.577941         491.702972   \n",
       "\n",
       "   Wind_Direction  \n",
       "0      259.994904  \n",
       "1      268.641113  \n",
       "2      272.564789  \n",
       "3      271.258087  \n",
       "4      265.674286  "
      ]
     },
     "execution_count": 23,
     "metadata": {},
     "output_type": "execute_result"
    }
   ],
   "source": [
    "data.head()"
   ]
  },
  {
   "cell_type": "code",
   "execution_count": 24,
   "id": "1ebe662e",
   "metadata": {},
   "outputs": [
    {
     "data": {
      "image/png": "[encoded data removed]",
      "text/plain": [
       "<Figure size 640x480 with 1 Axes>"
      ]
     },
     "metadata": {},
     "output_type": "display_data"
    }
   ],
   "source": [
    "plt.hist(data[\"Active_Power\"], bins=10)\n",
    "plt.xlabel(\"Active Power\")\n",
    "plt.ylabel(\"Frequency\")\n",
    "plt.show()"
   ]
  },
  {
   "cell_type": "code",
   "execution_count": 25,
   "id": "28b285bf",
   "metadata": {},
   "outputs": [
    {
     "data": {
      "image/png": "[encoded data removed]",
      "text/plain": [
       "<Figure size 640x480 with 1 Axes>"
      ]
     },
     "metadata": {},
     "output_type": "display_data"
    }
   ],
   "source": [
    "plt.hist(data[\"Wind_Speed\"], bins=10)\n",
    "plt.xlabel(\"Wind Speed (m/s)\")\n",
    "plt.ylabel(\"Frequency\")\n",
    "plt.show()"
   ]
  },
  {
   "cell_type": "code",
   "execution_count": 26,
   "id": "df6e3a2d",
   "metadata": {},
   "outputs": [
    {
     "data": {
      "image/png": "[encoded data removed]",
      "text/plain": [
       "<Figure size 640x480 with 1 Axes>"
      ]
     },
     "metadata": {},
     "output_type": "display_data"
    }
   ],
   "source": [
    "plt.hist(data[\"Theorotical_Power\"], bins=10)\n",
    "plt.xlabel(\"Theorotical Power\")\n",
    "plt.ylabel(\"Frequency\")\n",
    "plt.show()"
   ]
  },
  {
   "cell_type": "code",
   "execution_count": 27,
   "id": "2f51ed9b",
   "metadata": {},
   "outputs": [
    {
     "data": {
      "image/png": "[encoded data removed]",
      "text/plain": [
       "<Figure size 640x480 with 1 Axes>"
      ]
     },
     "metadata": {},
     "output_type": "display_data"
    }
   ],
   "source": [
    "plt.hist(data[\"Wind_Direction\"], bins=10)\n",
    "plt.xlabel(\"Wind Direction\")\n",
    "plt.ylabel(\"Frequency\")\n",
    "plt.show()"
   ]
  },
  {
   "cell_type": "code",
   "execution_count": 28,
   "id": "08b6cfce",
   "metadata": {},
   "outputs": [
    {
     "data": {
      "text/plain": [
       "Index(['Time', 'Active_Power', 'Wind_Speed', 'Theorotical_Power',\n",
       "       'Wind_Direction'],\n",
       "      dtype='object')"
      ]
     },
     "execution_count": 28,
     "metadata": {},
     "output_type": "execute_result"
    }
   ],
   "source": [
    "data.columns"
   ]
  },
  {
   "cell_type": "code",
   "execution_count": 29,
   "id": "e99b09a9",
   "metadata": {},
   "outputs": [
    {
     "name": "stdout",
     "output_type": "stream",
     "text": [
      "   Wind_Speed  Theorotical_Power  Wind_Direction\n",
      "0    5.311336         416.328908      259.994904\n",
      "1    5.672167         519.917511      268.641113\n",
      "2    5.216037         390.900016      272.564789\n",
      "3    5.659674         516.127569      271.258087\n",
      "4    5.577941         491.702972      265.674286\n",
      "0    380.047791\n",
      "1    453.769196\n",
      "2    306.376587\n",
      "3    419.645904\n",
      "4    380.650696\n",
      "Name: Active_Power, dtype: float64\n"
     ]
    }
   ],
   "source": [
    "x2 = data.drop([\"Active_Power\",\"Time\"],axis=1)\n",
    "y = data[\"Active_Power\"]\n",
    "print(x2.head())\n",
    "print(y.head())"
   ]
  },
  {
   "cell_type": "code",
   "execution_count": 30,
   "id": "eac017df",
   "metadata": {},
   "outputs": [
    {
     "name": "stdout",
     "output_type": "stream",
     "text": [
      "Before Normalization:\n",
      "\n",
      "   Wind_Speed  Theorotical_Power  Wind_Direction\n",
      "0    5.311336         416.328908      259.994904\n",
      "1    5.672167         519.917511      268.641113\n",
      "2    5.216037         390.900016      272.564789\n",
      "3    5.659674         516.127569      271.258087\n",
      "4    5.577941         491.702972      265.674286\n",
      "****************************************************************************************************\n",
      "After Normalization\n",
      "\n",
      "   Wind_Speed  Theorotical_Power  Wind_Direction\n",
      "0    0.001475           0.115647        0.072221\n",
      "1    0.001576           0.144422        0.074623\n",
      "2    0.001449           0.108583        0.075712\n",
      "3    0.001572           0.143369        0.075349\n",
      "4    0.001549           0.136584        0.073798\n"
     ]
    }
   ],
   "source": [
    "X = (x2 - np.min(x2))/(np.max(x2)-np.min(x2))\n",
    "\n",
    "print(\"Before Normalization:\\n\")\n",
    "print(x2.head())\n",
    "\n",
    "print(100*\"*\")\n",
    "\n",
    "print(\"After Normalization\\n\")\n",
    "\n",
    "print(X.head())\n"
   ]
  },
  {
   "cell_type": "code",
   "execution_count": 31,
   "id": "88bf1fc1",
   "metadata": {},
   "outputs": [],
   "source": [
    "X_train, X_test, y_train, y_test = train_test_split(X, y, test_size=0.1, random_state=42)"
   ]
  },
  {
   "cell_type": "code",
   "execution_count": 32,
   "id": "fb78a5ec",
   "metadata": {},
   "outputs": [
    {
     "name": "stdout",
     "output_type": "stream",
     "text": [
      "K=20  Accuraty Rate:  0.9213797736167572\n"
     ]
    }
   ],
   "source": [
    "knn = KNeighborsRegressor(n_neighbors = 20)\n",
    "knn.fit(X_train,y_train)\n",
    "prediction = knn.predict(X_test)\n",
    "print(\"K=20  Accuraty Rate: \", knn.score(X_test, y_test))"
   ]
  },
  {
   "cell_type": "code",
   "execution_count": 33,
   "id": "6e190706",
   "metadata": {},
   "outputs": [
    {
     "name": "stdout",
     "output_type": "stream",
     "text": [
      "The validation test results for K= 1 : % 84.98259996373409  \n",
      "The validation test results for K= 2 : % 88.45008161196833  \n",
      "The validation test results for K= 3 : % 89.64610148548486  \n",
      "The validation test results for K= 4 : % 90.51839702913502  \n",
      "The validation test results for K= 5 : % 91.09618566306663  \n",
      "The validation test results for K= 6 : % 91.31861107068589  \n",
      "The validation test results for K= 7 : % 91.46622527870572  \n",
      "The validation test results for K= 8 : % 91.618125675021  \n",
      "The validation test results for K= 9 : % 91.66487396373432  \n",
      "The validation test results for K= 10 : % 91.77404237463881  \n",
      "The validation test results for K= 11 : % 91.77284847655697  \n",
      "The validation test results for K= 12 : % 91.85082443780033  \n",
      "The validation test results for K= 13 : % 91.88491821585136  \n",
      "The validation test results for K= 14 : % 91.91340145629482  \n",
      "The validation test results for K= 15 : % 91.89934459023534  \n",
      "The validation test results for K= 16 : % 91.93729183652715  \n",
      "The validation test results for K= 17 : % 91.99286857987278  \n",
      "The validation test results for K= 18 : % 92.03270359852604  \n",
      "The validation test results for K= 19 : % 92.06322552310037  \n",
      "The validation test results for K= 20 : % 92.13797736167571  \n"
     ]
    },
    {
     "data": {
      "image/png": "[encoded data removed]",
      "text/plain": [
       "<Figure size 640x480 with 1 Axes>"
      ]
     },
     "metadata": {},
     "output_type": "display_data"
    }
   ],
   "source": [
    "# How can we decide the number?\n",
    "# let's find the best k number for our dataset\n",
    "k_values = range(1,21)\n",
    "my_list = []\n",
    "for i in range(1,21):\n",
    "    KNN = KNeighborsRegressor(n_neighbors= i) # n_neighbors = k\n",
    "    KNN.fit(X_train,y_train)\n",
    "    prediciton = KNN.predict(X_test)\n",
    "    print(f\"The validation test results for K= {i} : % {KNN.score(X_test,y_test)*100}  \")\n",
    "    my_list.append({KNN.score(X_test,y_test)*100})\n",
    "    \n",
    "numeric_list = [value for s in my_list for value in s]\n",
    "\n",
    "plt.plot(k_values,numeric_list)\n",
    "plt.xlabel(\"K Values\")\n",
    "plt.ylabel(\"KNN Score\")\n",
    "plt.show()    \n"
   ]
  },
  {
   "cell_type": "code",
   "execution_count": 34,
   "id": "0a2b38c0",
   "metadata": {},
   "outputs": [],
   "source": [
    "# We can choose 20 for k number it means the machine estimates around 92% correctly"
   ]
  },
  {
   "cell_type": "code",
   "execution_count": 35,
   "id": "f3b36673",
   "metadata": {},
   "outputs": [
    {
     "data": {
      "text/html": [
       "<div>\n",
       "<style scoped>\n",
       "    .dataframe tbody tr th:only-of-type {\n",
       "        vertical-align: middle;\n",
       "    }\n",
       "\n",
       "    .dataframe tbody tr th {\n",
       "        vertical-align: top;\n",
       "    }\n",
       "\n",
       "    .dataframe thead th {\n",
       "        text-align: right;\n",
       "    }\n",
       "</style>\n",
       "<table border=\"1\" class=\"dataframe\">\n",
       "  <thead>\n",
       "    <tr style=\"text-align: right;\">\n",
       "      <th></th>\n",
       "      <th>Time</th>\n",
       "      <th>Active_Power</th>\n",
       "      <th>Wind_Speed</th>\n",
       "      <th>Theorotical_Power</th>\n",
       "      <th>Wind_Direction</th>\n",
       "    </tr>\n",
       "  </thead>\n",
       "  <tbody>\n",
       "    <tr>\n",
       "      <th>0</th>\n",
       "      <td>2018-01-01 00:00:00</td>\n",
       "      <td>380.047791</td>\n",
       "      <td>5.311336</td>\n",
       "      <td>416.328908</td>\n",
       "      <td>259.994904</td>\n",
       "    </tr>\n",
       "    <tr>\n",
       "      <th>1</th>\n",
       "      <td>2018-01-01 00:10:00</td>\n",
       "      <td>453.769196</td>\n",
       "      <td>5.672167</td>\n",
       "      <td>519.917511</td>\n",
       "      <td>268.641113</td>\n",
       "    </tr>\n",
       "  </tbody>\n",
       "</table>\n",
       "</div>"
      ],
      "text/plain": [
       "                 Time  Active_Power  Wind_Speed  Theorotical_Power  \\\n",
       "0 2018-01-01 00:00:00    380.047791    5.311336         416.328908   \n",
       "1 2018-01-01 00:10:00    453.769196    5.672167         519.917511   \n",
       "\n",
       "   Wind_Direction  \n",
       "0      259.994904  \n",
       "1      268.641113  "
      ]
     },
     "execution_count": 35,
     "metadata": {},
     "output_type": "execute_result"
    }
   ],
   "source": [
    "data.head(2)"
   ]
  },
  {
   "cell_type": "code",
   "execution_count": 36,
   "id": "7fc6883d",
   "metadata": {},
   "outputs": [
    {
     "name": "stdout",
     "output_type": "stream",
     "text": [
      "Predicted Outcome: [349.25118103]\n"
     ]
    }
   ],
   "source": [
    "import warnings\n",
    "warnings.filterwarnings(\"ignore\", category=UserWarning)\n",
    "# let's predict\n",
    "new_data = np.array([5.311336,416.328908,259.994904])\n",
    "new_data = (new_data - np.min(x2)) / (np.max(x2) - np.min(x2))\n",
    "predicted_outcome = KNN.predict([new_data])\n",
    "print(\"Predicted Outcome:\", predicted_outcome)"
   ]
  },
  {
   "cell_type": "code",
   "execution_count": 37,
   "id": "d354c881",
   "metadata": {},
   "outputs": [
    {
     "name": "stdout",
     "output_type": "stream",
     "text": [
      "Predicted Outcome: [455.49565582]\n"
     ]
    }
   ],
   "source": [
    "new_data = np.array([5.672167,519.917511,268.641113])\n",
    "new_data = (new_data - np.min(x2)) / (np.max(x2) - np.min(x2))\n",
    "predicted_outcome = KNN.predict([new_data])\n",
    "print(\"Predicted Outcome:\", predicted_outcome)"
   ]
  },
  {
   "cell_type": "code",
   "execution_count": 38,
   "id": "ba86d706",
   "metadata": {},
   "outputs": [],
   "source": [
    "# Linear Regression"
   ]
  },
  {
   "cell_type": "code",
   "execution_count": 39,
   "id": "2f20b450",
   "metadata": {},
   "outputs": [],
   "source": [
    "reg = LinearRegression()"
   ]
  },
  {
   "cell_type": "code",
   "execution_count": 40,
   "id": "e68f52e7",
   "metadata": {},
   "outputs": [
    {
     "data": {
      "text/html": [
       "<style>#sk-container-id-1 {color: black;}#sk-container-id-1 pre{padding: 0;}#sk-container-id-1 div.sk-toggleable {background-color: white;}#sk-container-id-1 label.sk-toggleable__label {cursor: pointer;display: block;width: 100%;margin-bottom: 0;padding: 0.3em;box-sizing: border-box;text-align: center;}#sk-container-id-1 label.sk-toggleable__label-arrow:before {content: \"▸\";float: left;margin-right: 0.25em;color: #696969;}#sk-container-id-1 label.sk-toggleable__label-arrow:hover:before {color: black;}#sk-container-id-1 div.sk-estimator:hover label.sk-toggleable__label-arrow:before {color: black;}#sk-container-id-1 div.sk-toggleable__content {max-height: 0;max-width: 0;overflow: hidden;text-align: left;background-color: #f0f8ff;}#sk-container-id-1 div.sk-toggleable__content pre {margin: 0.2em;color: black;border-radius: 0.25em;background-color: #f0f8ff;}#sk-container-id-1 input.sk-toggleable__control:checked~div.sk-toggleable__content {max-height: 200px;max-width: 100%;overflow: auto;}#sk-container-id-1 input.sk-toggleable__control:checked~label.sk-toggleable__label-arrow:before {content: \"▾\";}#sk-container-id-1 div.sk-estimator input.sk-toggleable__control:checked~label.sk-toggleable__label {background-color: #d4ebff;}#sk-container-id-1 div.sk-label input.sk-toggleable__control:checked~label.sk-toggleable__label {background-color: #d4ebff;}#sk-container-id-1 input.sk-hidden--visually {border: 0;clip: rect(1px 1px 1px 1px);clip: rect(1px, 1px, 1px, 1px);height: 1px;margin: -1px;overflow: hidden;padding: 0;position: absolute;width: 1px;}#sk-container-id-1 div.sk-estimator {font-family: monospace;background-color: #f0f8ff;border: 1px dotted black;border-radius: 0.25em;box-sizing: border-box;margin-bottom: 0.5em;}#sk-container-id-1 div.sk-estimator:hover {background-color: #d4ebff;}#sk-container-id-1 div.sk-parallel-item::after {content: \"\";width: 100%;border-bottom: 1px solid gray;flex-grow: 1;}#sk-container-id-1 div.sk-label:hover label.sk-toggleable__label {background-color: #d4ebff;}#sk-container-id-1 div.sk-serial::before {content: \"\";position: absolute;border-left: 1px solid gray;box-sizing: border-box;top: 0;bottom: 0;left: 50%;z-index: 0;}#sk-container-id-1 div.sk-serial {display: flex;flex-direction: column;align-items: center;background-color: white;padding-right: 0.2em;padding-left: 0.2em;position: relative;}#sk-container-id-1 div.sk-item {position: relative;z-index: 1;}#sk-container-id-1 div.sk-parallel {display: flex;align-items: stretch;justify-content: center;background-color: white;position: relative;}#sk-container-id-1 div.sk-item::before, #sk-container-id-1 div.sk-parallel-item::before {content: \"\";position: absolute;border-left: 1px solid gray;box-sizing: border-box;top: 0;bottom: 0;left: 50%;z-index: -1;}#sk-container-id-1 div.sk-parallel-item {display: flex;flex-direction: column;z-index: 1;position: relative;background-color: white;}#sk-container-id-1 div.sk-parallel-item:first-child::after {align-self: flex-end;width: 50%;}#sk-container-id-1 div.sk-parallel-item:last-child::after {align-self: flex-start;width: 50%;}#sk-container-id-1 div.sk-parallel-item:only-child::after {width: 0;}#sk-container-id-1 div.sk-dashed-wrapped {border: 1px dashed gray;margin: 0 0.4em 0.5em 0.4em;box-sizing: border-box;padding-bottom: 0.4em;background-color: white;}#sk-container-id-1 div.sk-label label {font-family: monospace;font-weight: bold;display: inline-block;line-height: 1.2em;}#sk-container-id-1 div.sk-label-container {text-align: center;}#sk-container-id-1 div.sk-container {/* jupyter's `normalize.less` sets `[hidden] { display: none; }` but bootstrap.min.css set `[hidden] { display: none !important; }` so we also need the `!important` here to be able to override the default hidden behavior on the sphinx rendered scikit-learn.org. See: https://github.com/scikit-learn/scikit-learn/issues/21755 */display: inline-block !important;position: relative;}#sk-container-id-1 div.sk-text-repr-fallback {display: none;}</style><div id=\"sk-container-id-1\" class=\"sk-top-container\"><div class=\"sk-text-repr-fallback\"><pre>LinearRegression()</pre><b>In a Jupyter environment, please rerun this cell to show the HTML representation or trust the notebook. <br />On GitHub, the HTML representation is unable to render, please try loading this page with nbviewer.org.</b></div><div class=\"sk-container\" hidden><div class=\"sk-item\"><div class=\"sk-estimator sk-toggleable\"><input class=\"sk-toggleable__control sk-hidden--visually\" id=\"sk-estimator-id-1\" type=\"checkbox\" checked><label for=\"sk-estimator-id-1\" class=\"sk-toggleable__label sk-toggleable__label-arrow\">LinearRegression</label><div class=\"sk-toggleable__content\"><pre>LinearRegression()</pre></div></div></div></div></div>"
      ],
      "text/plain": [
       "LinearRegression()"
      ]
     },
     "execution_count": 40,
     "metadata": {},
     "output_type": "execute_result"
    }
   ],
   "source": [
    "reg.fit(X_train,y_train)"
   ]
  },
  {
   "cell_type": "code",
   "execution_count": 41,
   "id": "51b5c8fc",
   "metadata": {},
   "outputs": [
    {
     "data": {
      "text/plain": [
       "array([157556.15148863,   2829.76512832,   1464.6559572 ])"
      ]
     },
     "execution_count": 41,
     "metadata": {},
     "output_type": "execute_result"
    }
   ],
   "source": [
    "reg.coef_"
   ]
  },
  {
   "cell_type": "code",
   "execution_count": 42,
   "id": "aeb1c2b5",
   "metadata": {},
   "outputs": [
    {
     "data": {
      "text/plain": [
       "-246.57054747876305"
      ]
     },
     "execution_count": 42,
     "metadata": {},
     "output_type": "execute_result"
    }
   ],
   "source": [
    "reg.intercept_"
   ]
  },
  {
   "cell_type": "code",
   "execution_count": 43,
   "id": "a63cd65b",
   "metadata": {},
   "outputs": [],
   "source": [
    "# y = mx +n"
   ]
  },
  {
   "cell_type": "code",
   "execution_count": 44,
   "id": "3d538587",
   "metadata": {},
   "outputs": [
    {
     "data": {
      "text/html": [
       "<div>\n",
       "<style scoped>\n",
       "    .dataframe tbody tr th:only-of-type {\n",
       "        vertical-align: middle;\n",
       "    }\n",
       "\n",
       "    .dataframe tbody tr th {\n",
       "        vertical-align: top;\n",
       "    }\n",
       "\n",
       "    .dataframe thead th {\n",
       "        text-align: right;\n",
       "    }\n",
       "</style>\n",
       "<table border=\"1\" class=\"dataframe\">\n",
       "  <thead>\n",
       "    <tr style=\"text-align: right;\">\n",
       "      <th></th>\n",
       "      <th>Wind_Speed</th>\n",
       "      <th>Theorotical_Power</th>\n",
       "      <th>Wind_Direction</th>\n",
       "    </tr>\n",
       "  </thead>\n",
       "  <tbody>\n",
       "    <tr>\n",
       "      <th>10895</th>\n",
       "      <td>0.001938</td>\n",
       "      <td>0.279259</td>\n",
       "      <td>0.0196</td>\n",
       "    </tr>\n",
       "  </tbody>\n",
       "</table>\n",
       "</div>"
      ],
      "text/plain": [
       "       Wind_Speed  Theorotical_Power  Wind_Direction\n",
       "10895    0.001938           0.279259          0.0196"
      ]
     },
     "execution_count": 44,
     "metadata": {},
     "output_type": "execute_result"
    }
   ],
   "source": [
    "X_train.head(1)"
   ]
  },
  {
   "cell_type": "code",
   "execution_count": 45,
   "id": "cb615b78",
   "metadata": {},
   "outputs": [],
   "source": [
    "def Power(Wind_Speed,Theorotical_Power,Wind_Direction):\n",
    "    Wind_Speed2 = (Wind_Speed - np.min(x2)) / (np.max(x2) - np.min(x2))\n",
    "    Theorotical_Power2 = (Theorotical_Power - np.min(x2)) / (np.max(x2) - np.min(x2))\n",
    "    Wind_Direction2 = (Wind_Direction - np.min(x2)) / (np.max(x2) - np.min(x2))\n",
    "    LV_active = 157556.15148863* Wind_Speed2 + 2829.76512832*Theorotical_Power2 + 1464.6559572*Wind_Direction2 -246.57054747876305\n",
    "    return LV_active"
   ]
  },
  {
   "cell_type": "code",
   "execution_count": 46,
   "id": "6d5e1f44",
   "metadata": {},
   "outputs": [
    {
     "data": {
      "text/html": [
       "<div>\n",
       "<style scoped>\n",
       "    .dataframe tbody tr th:only-of-type {\n",
       "        vertical-align: middle;\n",
       "    }\n",
       "\n",
       "    .dataframe tbody tr th {\n",
       "        vertical-align: top;\n",
       "    }\n",
       "\n",
       "    .dataframe thead th {\n",
       "        text-align: right;\n",
       "    }\n",
       "</style>\n",
       "<table border=\"1\" class=\"dataframe\">\n",
       "  <thead>\n",
       "    <tr style=\"text-align: right;\">\n",
       "      <th></th>\n",
       "      <th>Time</th>\n",
       "      <th>Active_Power</th>\n",
       "      <th>Wind_Speed</th>\n",
       "      <th>Theorotical_Power</th>\n",
       "      <th>Wind_Direction</th>\n",
       "    </tr>\n",
       "  </thead>\n",
       "  <tbody>\n",
       "    <tr>\n",
       "      <th>0</th>\n",
       "      <td>2018-01-01 00:00:00</td>\n",
       "      <td>380.047791</td>\n",
       "      <td>5.311336</td>\n",
       "      <td>416.328908</td>\n",
       "      <td>259.994904</td>\n",
       "    </tr>\n",
       "    <tr>\n",
       "      <th>1</th>\n",
       "      <td>2018-01-01 00:10:00</td>\n",
       "      <td>453.769196</td>\n",
       "      <td>5.672167</td>\n",
       "      <td>519.917511</td>\n",
       "      <td>268.641113</td>\n",
       "    </tr>\n",
       "  </tbody>\n",
       "</table>\n",
       "</div>"
      ],
      "text/plain": [
       "                 Time  Active_Power  Wind_Speed  Theorotical_Power  \\\n",
       "0 2018-01-01 00:00:00    380.047791    5.311336         416.328908   \n",
       "1 2018-01-01 00:10:00    453.769196    5.672167         519.917511   \n",
       "\n",
       "   Wind_Direction  \n",
       "0      259.994904  \n",
       "1      268.641113  "
      ]
     },
     "execution_count": 46,
     "metadata": {},
     "output_type": "execute_result"
    }
   ],
   "source": [
    "data.head(2)"
   ]
  },
  {
   "cell_type": "code",
   "execution_count": 47,
   "id": "34ebf7f6",
   "metadata": {},
   "outputs": [
    {
     "data": {
      "text/plain": [
       "519.6505780367443"
      ]
     },
     "execution_count": 47,
     "metadata": {},
     "output_type": "execute_result"
    }
   ],
   "source": [
    "Power(5.672167,519.917511,268.641113)"
   ]
  },
  {
   "cell_type": "code",
   "execution_count": 48,
   "id": "516247ee",
   "metadata": {},
   "outputs": [
    {
     "data": {
      "text/plain": [
       "418.9154997929596"
      ]
     },
     "execution_count": 48,
     "metadata": {},
     "output_type": "execute_result"
    }
   ],
   "source": [
    "Power(5.311336,416.328908,259.994904)"
   ]
  },
  {
   "cell_type": "code",
   "execution_count": 49,
   "id": "985aad88",
   "metadata": {},
   "outputs": [
    {
     "data": {
      "text/plain": [
       "0.911221912154964"
      ]
     },
     "execution_count": 49,
     "metadata": {},
     "output_type": "execute_result"
    }
   ],
   "source": [
    "reg.score(X_test,y_test) "
   ]
  },
  {
   "cell_type": "code",
   "execution_count": 50,
   "id": "eec30e43",
   "metadata": {},
   "outputs": [],
   "source": [
    "# The machine estimates around 91% correctly"
   ]
  }
 ],
 "metadata": {
  "kernelspec": {
   "display_name": "Python 3 (ipykernel)",
   "language": "python",
   "name": "python3"
  },
  "language_info": {
   "codemirror_mode": {
    "name": "ipython",
    "version": 3
   },
   "file_extension": ".py",
   "mimetype": "text/x-python",
   "name": "python",
   "nbconvert_exporter": "python",
   "pygments_lexer": "ipython3",
   "version": "3.10.9"
  }
 },
 "nbformat": 4,
 "nbformat_minor": 5
}
